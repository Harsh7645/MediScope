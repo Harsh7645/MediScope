{
  "nbformat": 4,
  "nbformat_minor": 0,
  "metadata": {
    "colab": {
      "provenance": []
    },
    "kernelspec": {
      "name": "python3",
      "display_name": "Python 3"
    },
    "language_info": {
      "name": "python"
    }
  },
  "cells": [
    {
      "cell_type": "code",
      "execution_count": null,
      "metadata": {
        "colab": {
          "base_uri": "https://localhost:8080/"
        },
        "id": "1soqQwhamCgv",
        "outputId": "cd1513f0-fe5e-410e-fe09-defb242ae0e0"
      },
      "outputs": [
        {
          "output_type": "stream",
          "name": "stdout",
          "text": [
            "Downloading from https://www.kaggle.com/api/v1/datasets/download/pkdarabi/the-drug-name-detection-dataset?dataset_version_number=1...\n"
          ]
        },
        {
          "output_type": "stream",
          "name": "stderr",
          "text": [
            "100%|██████████| 53.5M/53.5M [00:00<00:00, 134MB/s]"
          ]
        },
        {
          "output_type": "stream",
          "name": "stdout",
          "text": [
            "Extracting files...\n"
          ]
        },
        {
          "output_type": "stream",
          "name": "stderr",
          "text": [
            "\n"
          ]
        },
        {
          "output_type": "stream",
          "name": "stdout",
          "text": [
            "Path to dataset files: /root/.cache/kagglehub/datasets/pkdarabi/the-drug-name-detection-dataset/versions/1\n"
          ]
        }
      ],
      "source": [
        "import kagglehub\n",
        "\n",
        "# Download the dataset\n",
        "path = kagglehub.dataset_download(\"pkdarabi/the-drug-name-detection-dataset\")\n",
        "print(\"Path to dataset files:\", path)"
      ]
    },
    {
      "cell_type": "code",
      "source": [
        "!pip install pytesseract"
      ],
      "metadata": {
        "colab": {
          "base_uri": "https://localhost:8080/"
        },
        "id": "eu3t0Fm_macA",
        "outputId": "1798d914-8d63-4602-a3f9-b3d8b1715719"
      },
      "execution_count": null,
      "outputs": [
        {
          "output_type": "stream",
          "name": "stdout",
          "text": [
            "Collecting pytesseract\n",
            "  Downloading pytesseract-0.3.13-py3-none-any.whl.metadata (11 kB)\n",
            "Requirement already satisfied: packaging>=21.3 in /usr/local/lib/python3.11/dist-packages (from pytesseract) (24.2)\n",
            "Requirement already satisfied: Pillow>=8.0.0 in /usr/local/lib/python3.11/dist-packages (from pytesseract) (11.2.1)\n",
            "Downloading pytesseract-0.3.13-py3-none-any.whl (14 kB)\n",
            "Installing collected packages: pytesseract\n",
            "Successfully installed pytesseract-0.3.13\n"
          ]
        }
      ]
    },
    {
      "cell_type": "code",
      "source": [
        "import os\n",
        "import cv2\n",
        "import pytesseract\n",
        "import pandas as pd\n",
        "import numpy as np\n",
        "from sklearn.ensemble import RandomForestClassifier\n",
        "from sklearn.model_selection import train_test_split\n",
        "from sklearn.metrics import accuracy_score\n",
        "import joblib\n",
        "from tqdm import tqdm\n",
        "\n",
        "# Set dataset paths\n",
        "image_dir = os.path.join(path, \"images\")\n",
        "csv_path = os.path.join(path, \"annotations.csv\")"
      ],
      "metadata": {
        "id": "wBe48kJOmMTY"
      },
      "execution_count": null,
      "outputs": []
    },
    {
      "cell_type": "code",
      "source": [
        "import os\n",
        "\n",
        "print(\"Dataset path:\", path)\n",
        "print(\"Files and folders:\", os.listdir(path))\n"
      ],
      "metadata": {
        "colab": {
          "base_uri": "https://localhost:8080/"
        },
        "id": "1zQCB4l-mk4B",
        "outputId": "5a62c0b5-c40f-426e-d2ee-2d4e0cfd7cda"
      },
      "execution_count": null,
      "outputs": [
        {
          "output_type": "stream",
          "name": "stdout",
          "text": [
            "Dataset path: /root/.cache/kagglehub/datasets/pkdarabi/the-drug-name-detection-dataset/versions/1\n",
            "Files and folders: ['train', 'valid', 'test', 'data.yaml']\n"
          ]
        }
      ]
    },
    {
      "cell_type": "code",
      "source": [
        "train_dir = os.path.join(path, 'train')\n",
        "print(os.listdir(train_dir))"
      ],
      "metadata": {
        "colab": {
          "base_uri": "https://localhost:8080/"
        },
        "id": "cpztILfEnBWw",
        "outputId": "da7c9cfd-4b21-4c17-8787-93146971584d"
      },
      "execution_count": null,
      "outputs": [
        {
          "output_type": "stream",
          "name": "stdout",
          "text": [
            "['labels', 'images']\n"
          ]
        }
      ]
    },
    {
      "cell_type": "code",
      "source": [
        "with open(os.path.join(path, 'data.yaml'), 'r') as f:\n",
        "    print(f.read())\n"
      ],
      "metadata": {
        "colab": {
          "base_uri": "https://localhost:8080/"
        },
        "id": "YS_G50--nQG7",
        "outputId": "02d20e88-6881-4dfd-c422-49034a36dfe0"
      },
      "execution_count": null,
      "outputs": [
        {
          "output_type": "stream",
          "name": "stdout",
          "text": [
            "train: ../train/images\n",
            "val: ../valid/images\n",
            "test: ../test/images\n",
            "\n",
            "nc: 1\n",
            "names: ['drug-name']\n",
            "\n",
            "roboflow:\n",
            "  workspace: kabul-university-evptq\n",
            "  project: drug-name-detection\n",
            "  version: 2\n",
            "  license: CC BY 4.0\n",
            "  url: https://universe.roboflow.com/kabul-university-evptq/drug-name-detection/dataset/2\n"
          ]
        }
      ]
    },
    {
      "cell_type": "code",
      "source": [
        "train_images_dir = os.path.join(path, 'train', 'images')\n",
        "image_files = [f for f in os.listdir(train_images_dir) if f.lower().endswith(('.jpg', '.jpeg', '.png'))]\n",
        "print(image_files[:5])"
      ],
      "metadata": {
        "colab": {
          "base_uri": "https://localhost:8080/"
        },
        "id": "5SlM3hjEnSRb",
        "outputId": "1e33d609-1f9b-4047-c981-22e2ff54e73c"
      },
      "execution_count": null,
      "outputs": [
        {
          "output_type": "stream",
          "name": "stdout",
          "text": [
            "['triamcinolone_jpg.rf.54ce399e5b440547192f81590e8f3866.jpg', '8LhnQvHLGtUhySKApyUOxyrYpMe_jpg.rf.cf2cc146af81e32cbc0132f33e746fa4.jpg', '8RIeJstDTyFqgCkkEKvXpFTYyzw_jpg.rf.febe15f2753da1bd6bc8479d5878d7aa.jpg', '8T4EeYqTvmXCzGJKVlRUVyDzyry_jpg.rf.997ed74385591395e98aef1030a6bbb5.jpg', 'MTA-38369120_metrix_metrix_full01_jpg.rf.c5e4381272f2103745e06895794c3607.jpg']\n"
          ]
        }
      ]
    },
    {
      "cell_type": "code",
      "source": [
        "methods = [\"simple\", \"adaptive\", \"otsu\", \"none\"]\n",
        "\n",
        "def preprocess_image(img, method=\"adaptive\"):\n",
        "    gray = cv2.cvtColor(img, cv2.COLOR_BGR2GRAY)\n",
        "    if method == \"simple\":\n",
        "        return cv2.GaussianBlur(gray, (3, 3), 0)\n",
        "    elif method == \"adaptive\":\n",
        "        blur = cv2.GaussianBlur(gray, (5, 5), 0)\n",
        "        return cv2.adaptiveThreshold(blur, 255, cv2.ADAPTIVE_THRESH_GAUSSIAN_C, cv2.THRESH_BINARY, 11, 2)\n",
        "    elif method == \"otsu\":\n",
        "        blur = cv2.GaussianBlur(gray, (5, 5), 0)\n",
        "        _, processed = cv2.threshold(blur, 0, 255, cv2.THRESH_BINARY + cv2.THRESH_OTSU)\n",
        "        return processed\n",
        "    else:\n",
        "        return gray\n",
        "\n",
        "results = []\n",
        "for fname in image_files[:100]:  # limit for demo\n",
        "    img_path = os.path.join(train_images_dir, fname)\n",
        "    img = cv2.imread(img_path)\n",
        "    for method in methods:\n",
        "        proc = preprocess_image(img, method)\n",
        "        text = pytesseract.image_to_string(proc)\n",
        "        results.append({\n",
        "            \"filename\": fname,\n",
        "            \"method\": method,\n",
        "            \"ocr_text\": text,\n",
        "            \"text_len\": len(text)\n",
        "        })\n"
      ],
      "metadata": {
        "id": "mWbbleRLolcW"
      },
      "execution_count": null,
      "outputs": []
    },
    {
      "cell_type": "code",
      "source": [
        "df = pd.DataFrame(results)\n",
        "print(df.head())"
      ],
      "metadata": {
        "colab": {
          "base_uri": "https://localhost:8080/"
        },
        "id": "WPmGAhfCouis",
        "outputId": "91b449e5-0628-4d73-a517-a1585609527d"
      },
      "execution_count": null,
      "outputs": [
        {
          "output_type": "stream",
          "name": "stdout",
          "text": [
            "                                            filename    method  \\\n",
            "0  triamcinolone_jpg.rf.54ce399e5b440547192f81590...    simple   \n",
            "1  triamcinolone_jpg.rf.54ce399e5b440547192f81590...  adaptive   \n",
            "2  triamcinolone_jpg.rf.54ce399e5b440547192f81590...      otsu   \n",
            "3  triamcinolone_jpg.rf.54ce399e5b440547192f81590...      none   \n",
            "4  8LhnQvHLGtUhySKApyUOxyrYpMe_jpg.rf.cf2cc146af8...    simple   \n",
            "\n",
            "                                            ocr_text  text_len  \n",
            "0    \\n  \\n\\nrant 4\\n\\na9 28\\n\\nwy veal pes igh t...        81  \n",
            "1                                                \\n\f         3  \n",
            "2                                                \\n\f         3  \n",
            "3                                                \\n\f         3  \n",
            "4  aan zs\\nrevarmyeosuimeg 2 as\\n\\na mae\\n\\na\\n\\n...        54  \n"
          ]
        }
      ]
    },
    {
      "cell_type": "code",
      "source": [
        "df.to_csv(\"ocr_preprocessing_results.csv\", index=False)"
      ],
      "metadata": {
        "id": "UBMQjGgpqbg2"
      },
      "execution_count": null,
      "outputs": []
    },
    {
      "cell_type": "code",
      "source": [
        "# For each filename, pick the method with the longest OCR output\n",
        "best_methods = df.loc[df.groupby('filename')['text_len'].idxmax()]\n",
        "\n",
        "print(best_methods[['filename', 'method', 'ocr_text', 'text_len']].head())"
      ],
      "metadata": {
        "colab": {
          "base_uri": "https://localhost:8080/"
        },
        "id": "mWmr6-goqev8",
        "outputId": "cb78b442-adc8-40d9-86fe-0611d37b586d"
      },
      "execution_count": null,
      "outputs": [
        {
          "output_type": "stream",
          "name": "stdout",
          "text": [
            "                                              filename    method  \\\n",
            "331  20230808_181538_jpg.rf.1235c0efa67dea312c57059...      none   \n",
            "69   20230812_210713_jpg.rf.d6ec5427dc4e68a587de077...  adaptive   \n",
            "137  20230812_210942_jpg.rf.c2a604e4b3855014de2c432...  adaptive   \n",
            "341  20230812_213638_jpg.rf.b68927761435ab2510a5cc0...  adaptive   \n",
            "318  20230812_214134_jpg.rf.7b93806c45b13d26f331f01...      otsu   \n",
            "\n",
            "                                              ocr_text  text_len  \n",
            "331   \\n  \\n\\nd\\n\\nOricox’120\\n\\nEtoricoxib Tablet ...       100  \n",
            "69   re\\n\\n \\n\\n40 me /~\\nSterlite Eye Drops\\n\\nChi...       373  \n",
            "137     \\n\\nan eR\\n\\nues-ueryay\\n\\nnoaeg euls\\n\\n \\...       294  \n",
            "341     \\n \\n\\n15m1,\\n\\n   \\n\\n ascorsic aciD\\nORAL...        55  \n",
            "318  MoxiBeena\\n\\nORT cai\\nie ete\\nPy dat as Pred I...        83  \n"
          ]
        }
      ]
    },
    {
      "cell_type": "code",
      "source": [
        "df['num_digits'] = df['ocr_text'].apply(lambda x: sum(c.isdigit() for c in x))\n",
        "df['num_caps'] = df['ocr_text'].apply(lambda x: sum(c.isupper() for c in x))"
      ],
      "metadata": {
        "id": "NZ26lobNqo1H"
      },
      "execution_count": null,
      "outputs": []
    },
    {
      "cell_type": "code",
      "source": [
        "# Mark which rows are the 'best' for each filename\n",
        "df['is_best'] = 0\n",
        "best_idx = df.groupby('filename')['text_len'].idxmax()\n",
        "df.loc[best_idx, 'is_best'] = 1"
      ],
      "metadata": {
        "id": "igP3AVaqqsx4"
      },
      "execution_count": null,
      "outputs": []
    },
    {
      "cell_type": "code",
      "source": [
        "feature_cols = ['method', 'text_len', 'num_digits', 'num_caps']\n",
        "# Encode 'method' as integer\n",
        "df['method_idx'] = df['method'].map({'simple':0, 'adaptive':1, 'otsu':2, 'none':3})\n",
        "\n",
        "X = df[['method_idx', 'text_len', 'num_digits', 'num_caps']]\n",
        "y = df['is_best']"
      ],
      "metadata": {
        "id": "DCOoY6khq9zD"
      },
      "execution_count": null,
      "outputs": []
    },
    {
      "cell_type": "code",
      "source": [
        "from sklearn.model_selection import train_test_split\n",
        "from sklearn.ensemble import RandomForestClassifier\n",
        "from sklearn.metrics import accuracy_score\n",
        "\n",
        "X_train, X_test, y_train, y_test = train_test_split(X, y, test_size=0.2, random_state=42)\n",
        "\n",
        "clf = RandomForestClassifier(n_estimators=100, random_state=42)\n",
        "clf.fit(X_train, y_train)\n",
        "\n",
        "y_pred = clf.predict(X_test)\n",
        "print(\"Test accuracy:\", accuracy_score(y_test, y_pred))"
      ],
      "metadata": {
        "colab": {
          "base_uri": "https://localhost:8080/"
        },
        "id": "wZhYQAvnrAYd",
        "outputId": "943319bf-b0bd-4540-ee4c-75d92a416350"
      },
      "execution_count": null,
      "outputs": [
        {
          "output_type": "stream",
          "name": "stdout",
          "text": [
            "Test accuracy: 0.7\n"
          ]
        }
      ]
    },
    {
      "cell_type": "code",
      "source": [
        "import matplotlib.pyplot as plt\n",
        "\n",
        "plt.bar(feature_cols, clf.feature_importances_)\n",
        "plt.title(\"Feature Importances\")\n",
        "plt.show()"
      ],
      "metadata": {
        "colab": {
          "base_uri": "https://localhost:8080/",
          "height": 452
        },
        "id": "yLzVDuCSrDHK",
        "outputId": "93ba4b6c-91a8-431d-fd8e-6f7059da2495"
      },
      "execution_count": null,
      "outputs": [
        {
          "output_type": "display_data",
          "data": {
            "text/plain": [
              "<Figure size 640x480 with 1 Axes>"
            ],
            "image/png": "[encoded data removed]"
          },
          "metadata": {}
        }
      ]
    },
    {
      "cell_type": "code",
      "source": [
        "import joblib\n",
        "joblib.dump(clf, \"ocr_selector_model.pkl\")\n",
        "print(\"Model saved as ocr_selector_model.pkl\")"
      ],
      "metadata": {
        "id": "PgKGv0UvrJQo",
        "outputId": "46014035-db0a-4a65-8f7a-042fe5f896f3",
        "colab": {
          "base_uri": "https://localhost:8080/"
        }
      },
      "execution_count": null,
      "outputs": [
        {
          "output_type": "stream",
          "name": "stdout",
          "text": [
            "Model saved as ocr_selector_model.pkl\n"
          ]
        }
      ]
    },
    {
      "cell_type": "code",
      "source": [],
      "metadata": {
        "id": "xaKdRwEhrNA6"
      },
      "execution_count": null,
      "outputs": []
    }
  ]
}